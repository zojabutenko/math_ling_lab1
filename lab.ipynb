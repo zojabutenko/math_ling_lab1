{
 "cells": [
  {
   "cell_type": "code",
   "execution_count": 125,
   "metadata": {},
   "outputs": [],
   "source": [
    "# Дан текст на естественном языке. Требуется найти границы предложений и сравнить скорость\n",
    "# поиска предложения по номеру при помощи прямого поиска по тексту и при помощи индекса.\n",
    "\n",
    "\n",
    "import re\n",
    "sentences = []\n",
    "string = 'Приведем два-три примера зверского, безбожного отношения к приговоренным, хотя бы для того, чтобы расстроить нервы супругам королевских прокуроров.'\n",
    "list_of_strings = []\n",
    "with open('Posledniy-den-prigovorennogo-k-smerti.txt') as file:\n",
    "    text = file.readlines()\n",
    "for l in text:\n",
    "    sent = re.findall('\\w+.*?[.?!]', l)\n",
    "    for s in sent:\n",
    "        sentences.append(s)"
   ]
  },
  {
   "cell_type": "code",
   "execution_count": 126,
   "metadata": {},
   "outputs": [],
   "source": [
    "def linear_search(sentences, string):\n",
    "    for t in sentences:\n",
    "        if t == string:\n",
    "            return True, sentences.index(t)"
   ]
  },
  {
   "cell_type": "code",
   "execution_count": 127,
   "metadata": {
    "scrolled": false
   },
   "outputs": [
    {
     "name": "stdout",
     "output_type": "stream",
     "text": [
      "(True, 162)\n",
      "CPU times: user 344 µs, sys: 179 µs, total: 523 µs\n",
      "Wall time: 506 µs\n"
     ]
    }
   ],
   "source": [
    "%%time\n",
    "print(linear_search(sentences, string))"
   ]
  },
  {
   "cell_type": "code",
   "execution_count": 128,
   "metadata": {},
   "outputs": [],
   "source": [
    "string_length = len(string)\n",
    "sent_lens = []\n",
    "for l in sentences:\n",
    "    sent_lens.append(len(l))\n",
    "sent_lens.sort()"
   ]
  },
  {
   "cell_type": "code",
   "execution_count": 129,
   "metadata": {},
   "outputs": [],
   "source": [
    "def index_search(string_length, sent_lens):\n",
    "    mid = len(sent_lens) // 2\n",
    "    low = 0\n",
    "    high = len(sent_lens) - 1\n",
    "    while sent_lens[mid] != string_length and low <= high:\n",
    "        if string_length > sent_lens[mid]:\n",
    "            low = mid + 1\n",
    "        else:\n",
    "            high = mid - 1\n",
    "        mid = (low + high) // 2\n",
    "    if low > high:\n",
    "        return \"No value\"\n",
    "    else:\n",
    "        return \"ID =\", mid"
   ]
  },
  {
   "cell_type": "code",
   "execution_count": 130,
   "metadata": {},
   "outputs": [
    {
     "name": "stdout",
     "output_type": "stream",
     "text": [
      "('ID =', 2233)\n",
      "CPU times: user 219 µs, sys: 95 µs, total: 314 µs\n",
      "Wall time: 265 µs\n"
     ]
    }
   ],
   "source": [
    "%%time\n",
    "print(index_search(string_length, sent_lens))"
   ]
  },
  {
   "cell_type": "markdown",
   "metadata": {},
   "source": [
    "# Если элемент находится где-то в начале:\n",
    "\n",
    "### Время выполнения линейного поиска по списку:\n",
    "CPU times: user 219 µs, sys: 81 µs, total: 300 µs\n",
    "Wall time: 249 µs\n",
    "### Время выполнения поиска по индексу в отсортированном списке:\n",
    "CPU times: user 332 µs, sys: 147 µs, total: 479 µs\n",
    "Wall time: 374 µs\n",
    "\n",
    "# Если элемент находится где-то в конце:\n",
    "\n",
    "### Время выполнения линейного поиска по списку:\n",
    "CPU times: user 615 µs, sys: 148 µs, total: 763 µs\n",
    "Wall time: 670 µs\n",
    "### Время выполнения поиска по индексу в отсортированном списке:\n",
    "CPU times: user 303 µs, sys: 103 µs, total: 406 µs\n",
    "Wall time: 358 µs\n",
    "\n",
    "*в общем, если нам повезло и элемент находится в начале списка, то мы немного выигрываем на линейном поиске. Но если нам не повезло и элемент находится в конце списка, то мы сильно (в два раза) выигрываем на поиске по индексу."
   ]
  },
  {
   "cell_type": "code",
   "execution_count": null,
   "metadata": {},
   "outputs": [],
   "source": []
  }
 ],
 "metadata": {
  "kernelspec": {
   "display_name": "Python 3",
   "language": "python",
   "name": "python3"
  },
  "language_info": {
   "codemirror_mode": {
    "name": "ipython",
    "version": 3
   },
   "file_extension": ".py",
   "mimetype": "text/x-python",
   "name": "python",
   "nbconvert_exporter": "python",
   "pygments_lexer": "ipython3",
   "version": "3.7.4"
  }
 },
 "nbformat": 4,
 "nbformat_minor": 4
}
